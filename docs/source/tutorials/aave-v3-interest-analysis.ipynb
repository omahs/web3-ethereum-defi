{
 "cells": [
  {
   "cell_type": "markdown",
   "metadata": {},
   "source": [
    "# Aave V3 Interest Analysis\n",
    "\n",
    "In this notebook we will show how to download interest events from Aave V3 to your computer as CSV files and use them to analyse interest rates in each reserve.\n",
    "\n",
    "* You need to understand [Jupyter Notebook and Pandas basics](https://jakevdp.github.io/PythonDataScienceHandbook/)\n",
    "\n",
    "* You need to understand [Ethereum](https://github.com/ethereumbook/ethereumbook) and [Web3.py basics](https://web3py.readthedocs.io/)\n",
    "\n",
    "* You will need to have [Polygon node and its JSON-RPC URL](https://ethereumnodes.com/) in order to pull out the data from the blockchain. The notebook will interactively ask you for your JSON-RPC URL.\n",
    "\n",
    "* You can click *Launch binder* button on this documentation page to automatically open this notebook to be run in\n",
    "  [Binder cloud notebook service](https://mybinder.org/). Note that we recommend to run the notebook\n",
    "  on your local computer, as generated CSV needs are large and take long time to generate."
   ]
  },
  {
   "cell_type": "markdown",
   "metadata": {},
   "source": [
    "### Aave V3 Networks and Tokens\n",
    "\n",
    "The Aave V3 protocol runs on multiple networks and supports multiple tokens. To analyze interest rates, you must choose a network and token to analyze. The following networks and tokens are available:\n",
    "\n",
    "* Polygon: AAVE, DAI, USDT, LINK, WMATIC, USDC, AGEUR, EURS, WBTC, WETH, CRV, SUSHI, GHST, JEUR, DPI, BAL\n",
    "* Optimism, Arbitrum, Fantom, Avalance and Harmony networks not yet fully implemented - token definitions can be added to aave_v3/constants.py\n",
    "\n",
    "For instance, to analyze interest rates for lending and borrowing ETH on the Polygon blockchain, you connect to the JSON-RPC URI of a Polygon node and use the WETH (Wrapped ETH) token.\n",
    "\n",
    "Note that Aave V3 does not run on the native Ethereum blockchain at this time. You can find more information about available networks and tokens on the [Polygon website](https://docs.aave.com/developers/deployed-contracts/v3-mainnet)."
   ]
  },
  {
   "cell_type": "markdown",
   "metadata": {},
   "source": [
    "### Download the raw data from a blockchain\n",
    "\n",
    "For simplicity, you can sign up for free access to a Polygon node for example at [Infura](https://infura.io/), however we recommend you to [run your own node](https://tradingstrategy.ai/blog/preparing-a-server-for-hosting-goethereum-full-node).\n",
    "\n",
    "The code below will connect to your JSON-RPC URL and auto-detect the network by its chain id."
   ]
  },
  {
   "cell_type": "code",
   "execution_count": 1,
   "metadata": {
    "ExecuteTime": {
     "end_time": "2023-07-25T07:48:06.113436Z",
     "start_time": "2023-07-25T07:47:36.885676Z"
    }
   },
   "outputs": [
    {
     "name": "stdout",
     "output_type": "stream",
     "text": [
      "Detected network Polygon chain 137 start block 25826028 max block 45493513\n"
     ]
    }
   ],
   "source": [
    "from web3 import Web3, HTTPProvider\n",
    "from eth_defi.aave_v3.constants import aave_v3_get_json_rpc_url, aave_v3_get_network_by_chain_id\n",
    "\n",
    "# Get your node JSON-RPC URL\n",
    "json_rpc_url = aave_v3_get_json_rpc_url() or input(\"Please enter your JSON-RPC URL here\")\n",
    "web3 = Web3(HTTPProvider(json_rpc_url))\n",
    "aave_network = aave_v3_get_network_by_chain_id(web3.eth.chain_id)\n",
    "token = 'WMATIC'  # use WMATIC token in the following examples\n",
    "stable_token = 'DAI'  # use DAI token in the following examples for stable token operations\n",
    "max_block = web3.eth.block_number\n",
    "print(f'Detected network {aave_network.name} chain {web3.eth.chain_id} start block {aave_network.pool_created_at_block} max block {max_block}')\n"
   ]
  },
  {
   "cell_type": "markdown",
   "metadata": {},
   "source": [
    "Here we download raw events since the Aave v3 pool was created in the blockchain.\n",
    "The events will be stored in several CSV files at `/tmp` folder.\n",
    "\n",
    "Depends on your internet connection and latency to the Ethereum node, the scan might take hours. However it can resume in case there is a crash, as we save the last scanned block in a JSON state file.\n",
    "\n",
    "You can change start_block and end_block to download event data for a shorter range of history."
   ]
  },
  {
   "cell_type": "code",
   "execution_count": 2,
   "metadata": {
    "ExecuteTime": {
     "end_time": "2023-07-25T08:00:35.154891Z",
     "start_time": "2023-07-25T07:48:06.113986Z"
    }
   },
   "outputs": [
    {
     "name": "stdout",
     "output_type": "stream",
     "text": [
      "No previous scan done, starting fresh from block 25,826,028, total 19,667,485 blocks\n",
      "Scanning block range 25,826,028 - 45,493,513\n"
     ]
    },
    {
     "data": {
      "text/plain": "  0%|          | 0/19667485 [00:00<?, ?it/s]",
      "application/vnd.jupyter.widget-view+json": {
       "version_major": 2,
       "version_minor": 0,
       "model_id": "573bc00524614878bb7d7c18752f1e8e"
      }
     },
     "metadata": {},
     "output_type": "display_data"
    },
    {
     "ename": "RuntimeError",
     "evalue": "Could not decode {'address': '0x794a61358d6845594f94dc1db02a252b5b4814ad', 'topics': ['0x804c9b842b2748a22bb64b345453a3de7ca54a6ca45ce00d415894979e22897a', '0x0000000000000000000000008f3cf7ad23cd3cadbd9735aff958023239c6a063'], 'data': '0x000000000000000000000000000000000000000000000000000000000000000000000000000000000000000000000000000000000031a17e847807b1bc00000000000000000000000000000000000000000000000000000000000000000000000000000000000000000000000000000000000000033b2e3c9fd0803ce80000000000000000000000000000000000000000000000033b2e3c9fd0803ce8000000', 'blockNumber': 25873345, 'transactionHash': '0xdee0d2e2b58c5717150e277df0f6eb930e3d4b7d6439c571919807d126ffdc84', 'transactionIndex': '0x51', 'blockHash': '0xa0b890d31b2558993ad9e78722381f220e92ab3bab360389a826eff6bb2c6e81', 'logIndex': '0x121', 'removed': False, 'context': <eth_defi.aave_v3.events.TokenCache object at 0x127aabeb0>, 'event': <class 'web3._utils.datatypes.ReserveDataUpdated'>, 'chunk_id': 25873328, 'timestamp': 1647112747}",
     "output_type": "error",
     "traceback": [
      "\u001B[0;31m---------------------------------------------------------------------------\u001B[0m",
      "\u001B[0;31mTypeError\u001B[0m                                 Traceback (most recent call last)",
      "File \u001B[0;32m~/code/executor/trade-executor/deps/web3-ethereum-defi/eth_defi/aave_v3/events.py:296\u001B[0m, in \u001B[0;36maave_v3_fetch_events_to_csv\u001B[0;34m(json_rpc_url, state, aave_network_name, start_block, end_block, output_folder, max_workers, log_info)\u001B[0m\n\u001B[1;32m    295\u001B[0m decode_function \u001B[38;5;241m=\u001B[39m event_mapping[event_name][\u001B[38;5;124m\"\u001B[39m\u001B[38;5;124mdecode_function\u001B[39m\u001B[38;5;124m\"\u001B[39m]\n\u001B[0;32m--> 296\u001B[0m decoded_result \u001B[38;5;241m=\u001B[39m \u001B[43mdecode_function\u001B[49m\u001B[43m(\u001B[49m\u001B[43maave_network_name\u001B[49m\u001B[43m,\u001B[49m\u001B[43m \u001B[49m\u001B[43mlog_result\u001B[49m\u001B[43m)\u001B[49m\n\u001B[1;32m    297\u001B[0m \u001B[38;5;66;03m# Note: decoded_result is None if the event is e.g. from Aave v2 contract\u001B[39;00m\n",
      "File \u001B[0;32m~/code/executor/trade-executor/deps/web3-ethereum-defi/eth_defi/aave_v3/events.py:120\u001B[0m, in \u001B[0;36mdecode_reserve_data_updated\u001B[0;34m(aave_network_name, log)\u001B[0m\n\u001B[1;32m    117\u001B[0m \u001B[38;5;66;03m# Do additional lookup for the token data\u001B[39;00m\n\u001B[1;32m    118\u001B[0m \u001B[38;5;66;03m# web3 = log[\"event\"].web3\u001B[39;00m\n\u001B[1;32m    119\u001B[0m \u001B[38;5;66;03m# token_cache: TokenCache = log[\"context\"]\u001B[39;00m\n\u001B[0;32m--> 120\u001B[0m result \u001B[38;5;241m=\u001B[39m \u001B[43m_decode_base\u001B[49m\u001B[43m(\u001B[49m\u001B[43mlog\u001B[49m\u001B[43m)\u001B[49m\n\u001B[1;32m    122\u001B[0m \u001B[38;5;66;03m# Any indexed Solidity event parameter will be in topics data.\u001B[39;00m\n\u001B[1;32m    123\u001B[0m \u001B[38;5;66;03m# The first topics (0) is always the event signature.\u001B[39;00m\n",
      "File \u001B[0;32m~/code/executor/trade-executor/deps/web3-ethereum-defi/eth_defi/aave_v3/events.py:91\u001B[0m, in \u001B[0;36m_decode_base\u001B[0;34m(log)\u001B[0m\n\u001B[1;32m     88\u001B[0m block_time \u001B[38;5;241m=\u001B[39m datetime\u001B[38;5;241m.\u001B[39mdatetime\u001B[38;5;241m.\u001B[39mutcfromtimestamp(log[\u001B[38;5;124m\"\u001B[39m\u001B[38;5;124mtimestamp\u001B[39m\u001B[38;5;124m\"\u001B[39m])\n\u001B[1;32m     90\u001B[0m \u001B[38;5;28;01mreturn\u001B[39;00m {\n\u001B[0;32m---> 91\u001B[0m     \u001B[38;5;124m\"\u001B[39m\u001B[38;5;124mblock_number\u001B[39m\u001B[38;5;124m\"\u001B[39m: \u001B[38;5;28;43mint\u001B[39;49m\u001B[43m(\u001B[49m\u001B[43mlog\u001B[49m\u001B[43m[\u001B[49m\u001B[38;5;124;43m\"\u001B[39;49m\u001B[38;5;124;43mblockNumber\u001B[39;49m\u001B[38;5;124;43m\"\u001B[39;49m\u001B[43m]\u001B[49m\u001B[43m,\u001B[49m\u001B[43m \u001B[49m\u001B[38;5;241;43m16\u001B[39;49m\u001B[43m)\u001B[49m,\n\u001B[1;32m     92\u001B[0m     \u001B[38;5;124m\"\u001B[39m\u001B[38;5;124mtimestamp\u001B[39m\u001B[38;5;124m\"\u001B[39m: block_time\u001B[38;5;241m.\u001B[39misoformat(),\n\u001B[1;32m     93\u001B[0m     \u001B[38;5;124m\"\u001B[39m\u001B[38;5;124mtx_hash\u001B[39m\u001B[38;5;124m\"\u001B[39m: log[\u001B[38;5;124m\"\u001B[39m\u001B[38;5;124mtransactionHash\u001B[39m\u001B[38;5;124m\"\u001B[39m],\n\u001B[1;32m     94\u001B[0m     \u001B[38;5;124m\"\u001B[39m\u001B[38;5;124mlog_index\u001B[39m\u001B[38;5;124m\"\u001B[39m: \u001B[38;5;28mint\u001B[39m(log[\u001B[38;5;124m\"\u001B[39m\u001B[38;5;124mlogIndex\u001B[39m\u001B[38;5;124m\"\u001B[39m], \u001B[38;5;241m16\u001B[39m),\n\u001B[1;32m     95\u001B[0m }\n",
      "\u001B[0;31mTypeError\u001B[0m: int() can't convert non-string with explicit base",
      "\nThe above exception was the direct cause of the following exception:\n",
      "\u001B[0;31mRuntimeError\u001B[0m                              Traceback (most recent call last)",
      "Cell \u001B[0;32mIn[2], line 11\u001B[0m\n\u001B[1;32m      8\u001B[0m \u001B[38;5;66;03m# Stores the last block number of event data we store\u001B[39;00m\n\u001B[1;32m      9\u001B[0m state \u001B[38;5;241m=\u001B[39m JSONFileScanState(\u001B[38;5;124mf\u001B[39m\u001B[38;5;124m'\u001B[39m\u001B[38;5;124m/tmp/aave-v3-\u001B[39m\u001B[38;5;132;01m{\u001B[39;00maave_network\u001B[38;5;241m.\u001B[39mname\u001B[38;5;241m.\u001B[39mlower()\u001B[38;5;132;01m}\u001B[39;00m\u001B[38;5;124m-rate-scan.json\u001B[39m\u001B[38;5;124m'\u001B[39m)\n\u001B[0;32m---> 11\u001B[0m \u001B[43maave_v3_fetch_events_to_csv\u001B[49m\u001B[43m(\u001B[49m\u001B[43mjson_rpc_url\u001B[49m\u001B[43m,\u001B[49m\u001B[43m \u001B[49m\u001B[43mstate\u001B[49m\u001B[43m,\u001B[49m\u001B[43m \u001B[49m\u001B[43maave_network\u001B[49m\u001B[38;5;241;43m.\u001B[39;49m\u001B[43mname\u001B[49m\u001B[43m,\u001B[49m\u001B[43m \u001B[49m\u001B[43mstart_block\u001B[49m\u001B[38;5;241;43m=\u001B[39;49m\u001B[43mstart_block\u001B[49m\u001B[43m,\u001B[49m\u001B[43m \u001B[49m\u001B[43mend_block\u001B[49m\u001B[38;5;241;43m=\u001B[39;49m\u001B[43mend_block\u001B[49m\u001B[43m,\u001B[49m\u001B[43m \u001B[49m\u001B[43mmax_workers\u001B[49m\u001B[38;5;241;43m=\u001B[39;49m\u001B[43mmax_workers\u001B[49m\u001B[43m)\u001B[49m\n",
      "File \u001B[0;32m~/code/executor/trade-executor/deps/web3-ethereum-defi/eth_defi/aave_v3/events.py:302\u001B[0m, in \u001B[0;36maave_v3_fetch_events_to_csv\u001B[0;34m(json_rpc_url, state, aave_network_name, start_block, end_block, output_folder, max_workers, log_info)\u001B[0m\n\u001B[1;32m    300\u001B[0m                 buffer\u001B[38;5;241m.\u001B[39mappend(decoded_result)\n\u001B[1;32m    301\u001B[0m         \u001B[38;5;28;01mexcept\u001B[39;00m \u001B[38;5;167;01mException\u001B[39;00m \u001B[38;5;28;01mas\u001B[39;00m e:\n\u001B[0;32m--> 302\u001B[0m             \u001B[38;5;28;01mraise\u001B[39;00m \u001B[38;5;167;01mRuntimeError\u001B[39;00m(\u001B[38;5;124mf\u001B[39m\u001B[38;5;124m\"\u001B[39m\u001B[38;5;124mCould not decode \u001B[39m\u001B[38;5;132;01m{\u001B[39;00mlog_result\u001B[38;5;132;01m}\u001B[39;00m\u001B[38;5;124m\"\u001B[39m) \u001B[38;5;28;01mfrom\u001B[39;00m \u001B[38;5;21;01me\u001B[39;00m\n\u001B[1;32m    304\u001B[0m \u001B[38;5;66;03m# Write remaining events, close files and print stats\u001B[39;00m\n\u001B[1;32m    305\u001B[0m \u001B[38;5;28;01mfor\u001B[39;00m event_name, buffer \u001B[38;5;129;01min\u001B[39;00m buffers\u001B[38;5;241m.\u001B[39mitems():\n",
      "\u001B[0;31mRuntimeError\u001B[0m: Could not decode {'address': '0x794a61358d6845594f94dc1db02a252b5b4814ad', 'topics': ['0x804c9b842b2748a22bb64b345453a3de7ca54a6ca45ce00d415894979e22897a', '0x0000000000000000000000008f3cf7ad23cd3cadbd9735aff958023239c6a063'], 'data': '0x000000000000000000000000000000000000000000000000000000000000000000000000000000000000000000000000000000000031a17e847807b1bc00000000000000000000000000000000000000000000000000000000000000000000000000000000000000000000000000000000000000033b2e3c9fd0803ce80000000000000000000000000000000000000000000000033b2e3c9fd0803ce8000000', 'blockNumber': 25873345, 'transactionHash': '0xdee0d2e2b58c5717150e277df0f6eb930e3d4b7d6439c571919807d126ffdc84', 'transactionIndex': '0x51', 'blockHash': '0xa0b890d31b2558993ad9e78722381f220e92ab3bab360389a826eff6bb2c6e81', 'logIndex': '0x121', 'removed': False, 'context': <eth_defi.aave_v3.events.TokenCache object at 0x127aabeb0>, 'event': <class 'web3._utils.datatypes.ReserveDataUpdated'>, 'chunk_id': 25873328, 'timestamp': 1647112747}"
     ]
    }
   ],
   "source": [
    "from eth_defi.aave_v3.events import aave_v3_fetch_events_to_csv\n",
    "from eth_defi.event_reader.json_state import JSONFileScanState\n",
    "\n",
    "start_block = aave_network.pool_created_at_block  # Read from creation of the Aave v3 pool\n",
    "end_block = max_block  # Read until end of available blocks\n",
    "max_workers = 8  # number of workers to use for parallel API request processing\n",
    "\n",
    "# Stores the last block number of event data we store\n",
    "state = JSONFileScanState(f'/tmp/aave-v3-{aave_network.name.lower()}-rate-scan.json')\n",
    "\n",
    "aave_v3_fetch_events_to_csv(json_rpc_url, state, aave_network.name, start_block=start_block, end_block=end_block, max_workers=max_workers)"
   ]
  },
  {
   "cell_type": "markdown",
   "metadata": {},
   "source": [
    "### Analyze Aave v3 rate information\n",
    "\n",
    "Aave v3 rates can be read from the ReserveDataUpdated event history. Note that the dataset includes updates for all reserve currencies. See eth_defi/aave_v3/README.md for a more detailed description of the events."
   ]
  },
  {
   "cell_type": "code",
   "execution_count": null,
   "metadata": {},
   "outputs": [],
   "source": [
    "import pandas\n",
    "\n",
    "# Read the CSV data into a DataFrame\n",
    "reserve_data_updated_df = pandas.read_csv(f'/tmp/aave-v3-{aave_network.name.lower()}-reservedataupdated.csv')\n",
    "\n",
    "# Index the dataset by timestamp (convert to datetime objects)\n",
    "reserve_data_updated_df['timestamp'] = pandas.to_datetime(reserve_data_updated_df['timestamp'])\n",
    "reserve_data_updated_df.set_index('timestamp', drop=False, inplace=True)\n",
    "\n",
    "print(f\"We have total {len(reserve_data_updated_df):,} reserve data updates in the dataset\")"
   ]
  },
  {
   "cell_type": "markdown",
   "metadata": {},
   "source": [
    "We calculate APY (Annual Percentage Yield) and APR (Annual Percentage Rate) based Aave documentation: https://docs.aave.com/developers/v/2.0/guides/apy-and-apr.\n",
    "\n",
    "The resulting dataframe also includes deposit and borrow rates as floating point variables for convenience.\n",
    "\n",
    "You can access these calculated columns in the resulting dataframe:\n",
    "\n",
    "* deposit_apr (float)\n",
    "* variable_borrow_apr (float)\n",
    "* stable_borrow_apr (float)\n",
    "* deposit_apy (float)\n",
    "* variable_borrow_apy (float)\n",
    "* stable_borrow_apy (float)\n",
    "* liquidity_rate_float (float)\n",
    "* variable_borrow_rate_float (float)\n",
    "* stable_borrow_rate_float (float)"
   ]
  },
  {
   "cell_type": "code",
   "execution_count": null,
   "metadata": {},
   "outputs": [],
   "source": [
    "from eth_defi.aave_v3.rates import aave_v3_calculate_apr_apy_rates\n",
    "\n",
    "apr_apy_df = aave_v3_calculate_apr_apy_rates(reserve_data_updated_df)\n",
    "apr_apy_df"
   ]
  },
  {
   "cell_type": "markdown",
   "metadata": {},
   "source": [
    "### Draw Aave v3 deposit rate graph\n",
    "\n",
    "We can now plot historical deposit rates into a graph. Here we show the daily mean liquidity rate, which determines the interest you gain for deposits."
   ]
  },
  {
   "cell_type": "code",
   "execution_count": null,
   "metadata": {},
   "outputs": [],
   "source": [
    "from eth_defi.aave_v3.rates import aave_v3_calculate_mean\n",
    "import plotly.graph_objects as go\n",
    "from plotly.subplots import make_subplots\n",
    "\n",
    "time_bucket = pandas.Timedelta(\"1D\")\n",
    "deposit_df = aave_v3_calculate_mean(apr_apy_df, time_bucket, 'liquidity_rate_float', token) * 100\n",
    "deposit_rate_scatter = go.Scatter(\n",
    "    x=deposit_df.index,\n",
    "    y=deposit_df,\n",
    "    showlegend=True,\n",
    "    name='Deposit rate %s' % (token),\n",
    "    # marker={ \"color\": \"rgba(0,128,0,1.0)\", }\n",
    ")\n",
    "\n",
    "fig = make_subplots(specs=[[{\"secondary_y\": False}]])\n",
    "fig.add_trace(deposit_rate_scatter, secondary_y=False)\n",
    "fig.update_layout(title=\"Aave v3 deposit rates\", height=800)\n",
    "fig.update_yaxes(title=\"Deposit rate %\", secondary_y=False, showgrid=False)\n",
    "fig.show()"
   ]
  },
  {
   "cell_type": "markdown",
   "metadata": {},
   "source": [
    "### Draw Aave v3 borrow rates graph\n",
    "\n",
    "We can plot historical stable and variable borrow rates into a graph. Here we show the daily mean variable/stable borrow rates.\n",
    "\n",
    "Note that we use a different currency token (DAI) for stable rates, because the WMATIC token does not have stable borrow rates available."
   ]
  },
  {
   "cell_type": "code",
   "execution_count": null,
   "metadata": {},
   "outputs": [],
   "source": [
    "from eth_defi.aave_v3.rates import aave_v3_calculate_mean\n",
    "import plotly.graph_objects as go\n",
    "from plotly.subplots import make_subplots\n",
    "\n",
    "time_bucket = pandas.Timedelta(\"1D\")\n",
    "variable_borrow_df = aave_v3_calculate_mean(apr_apy_df, time_bucket, 'variable_borrow_rate_float', token) * 100\n",
    "stable_borrow_df = aave_v3_calculate_mean(apr_apy_df, time_bucket, 'stable_borrow_rate_float', stable_token) * 100\n",
    "\n",
    "variable_borrow_rate_scatter = go.Scatter(\n",
    "    x=variable_borrow_df.index,\n",
    "    y=variable_borrow_df,\n",
    "    showlegend=True,\n",
    "    name='Variable rate %s' % (token),\n",
    "    # marker={ \"color\": \"rgba(0,128,0,1.0)\", }\n",
    ")\n",
    "\n",
    "stable_borrow_rate_scatter = go.Scatter(\n",
    "    x=stable_borrow_df.index,\n",
    "    y=stable_borrow_df,\n",
    "    showlegend=True,\n",
    "    name='Stable rate %s' % (stable_token),\n",
    "    # marker={ \"color\": \"rgba(0,128,0,1.0)\", }\n",
    ")\n",
    "\n",
    "fig = make_subplots(specs=[[{\"secondary_y\": False}]])\n",
    "fig.add_trace(variable_borrow_rate_scatter, secondary_y=False)\n",
    "fig.add_trace(stable_borrow_rate_scatter, secondary_y=False)\n",
    "fig.update_layout(title=\"Aave v3 borrow rates\", height=800)\n",
    "fig.update_yaxes(title=\"Borrow rate %\", secondary_y=False, showgrid=False)\n",
    "fig.show()"
   ]
  },
  {
   "cell_type": "markdown",
   "metadata": {},
   "source": [
    "### Draw Aave v3 APR/APY graph\n",
    "\n",
    "We can plot a historical APR/APY graph. The graph will show daily mean APR and APY rates for deposits, variable borrow debt and stable borrow debt.\n",
    "\n",
    "Note that for stable debt, we use the DAI token, while the other lines in the graph use the WMATIC token."
   ]
  },
  {
   "cell_type": "code",
   "execution_count": null,
   "metadata": {},
   "outputs": [],
   "source": [
    "from eth_defi.aave_v3.rates import aave_v3_calculate_mean\n",
    "import plotly.graph_objects as go\n",
    "from plotly.subplots import make_subplots\n",
    "\n",
    "# Calculate APR/APY mean values for each day\n",
    "time_bucket = pandas.Timedelta(\"1D\")\n",
    "\n",
    "# Calculate deposit and variable borrow rates for MATIC.\n",
    "deposit_apr_df, variable_borrow_apr_df = aave_v3_calculate_mean(apr_apy_df, time_bucket, ('deposit_apr', 'variable_borrow_apr'), token)\n",
    "deposit_apy_df, variable_borrow_apy_df = aave_v3_calculate_mean(apr_apy_df, time_bucket, ('deposit_apy', 'variable_borrow_apy'), token)\n",
    "\n",
    "# Calculate stable rates for stable currency (DAI).\n",
    "stable_borrow_apr_df = aave_v3_calculate_mean(apr_apy_df, time_bucket, 'stable_borrow_apr', stable_token)\n",
    "stable_borrow_apy_df = aave_v3_calculate_mean(apr_apy_df, time_bucket, 'stable_borrow_apy', stable_token)\n",
    "\n",
    "deposit_apr_df_scatter = go.Scatter(\n",
    "    x=deposit_apr_df.index,\n",
    "    y=deposit_apr_df,\n",
    "    showlegend=True,\n",
    "    name='Deposit %s APR' % (token),\n",
    "    # marker={ \"color\": \"rgba(0,128,0,1.0)\", }\n",
    ")\n",
    "\n",
    "deposit_apy_df_scatter = go.Scatter(\n",
    "    x=deposit_apy_df.index,\n",
    "    y=deposit_apy_df,\n",
    "    showlegend=True,\n",
    "    name='Deposit %s APY' % (token),\n",
    "    # marker={ \"color\": \"rgba(0,0,128,1.0)\", }\n",
    ")\n",
    "\n",
    "variable_borrow_apr_df_scatter = go.Scatter(\n",
    "    x=variable_borrow_apr_df.index,\n",
    "    y=variable_borrow_apr_df,\n",
    "    showlegend=True,\n",
    "    name='Variable %s Borrow APR' % (token),\n",
    "    # marker={ \"color\": \"rgba(128,0,0,1.0)\", }\n",
    ")\n",
    "\n",
    "variable_borrow_apy_df_scatter = go.Scatter(\n",
    "    x=variable_borrow_apy_df.index,\n",
    "    y=variable_borrow_apy_df,\n",
    "    showlegend=True,\n",
    "    name='Variable %s Borrow APY' % (token),\n",
    "    # marker={ \"color\": \"rgba(128,0,128,1.0)\", }\n",
    ")\n",
    "\n",
    "stable_borrow_apr_df_scatter = go.Scatter(\n",
    "    x=stable_borrow_apr_df.index,\n",
    "    y=stable_borrow_apr_df,\n",
    "    showlegend=True,\n",
    "    name='Stable %s Borrow APR' % (stable_token),\n",
    "    # marker={ \"color\": \"rgba(128,0,0,1.0)\", }\n",
    ")\n",
    "\n",
    "stable_borrow_apy_df_scatter = go.Scatter(\n",
    "    x=stable_borrow_apy_df.index,\n",
    "    y=stable_borrow_apy_df,\n",
    "    showlegend=True,\n",
    "    name='Stable %s Borrow APY' % (stable_token),\n",
    "    # marker={ \"color\": \"rgba(128,0,128,1.0)\", }\n",
    ")\n",
    "\n",
    "fig = make_subplots(specs=[[{\"secondary_y\": True}]])\n",
    "fig.add_trace(deposit_apr_df_scatter, secondary_y=False)\n",
    "fig.add_trace(deposit_apy_df_scatter, secondary_y=False)\n",
    "fig.add_trace(variable_borrow_apr_df_scatter, secondary_y=False)\n",
    "fig.add_trace(variable_borrow_apy_df_scatter, secondary_y=False)\n",
    "fig.add_trace(stable_borrow_apr_df_scatter, secondary_y=False)\n",
    "fig.add_trace(stable_borrow_apy_df_scatter, secondary_y=False)\n",
    "fig.update_layout(title=\"Aave v3 APR/APY\", height=800)\n",
    "fig.update_yaxes(title=\"APR/APY %\", secondary_y=False, showgrid=False)\n",
    "#fig.update_yaxes(title=\"Borrow APR/APY %\", secondary_y=True, showgrid=False)\n",
    "fig.show()"
   ]
  },
  {
   "cell_type": "markdown",
   "metadata": {},
   "source": [
    "### Calculate Aave v3 interest between given times\n",
    "\n",
    "These functions will calculate how much interest you paid if you took debt for the given time period,\n",
    "or how much interest you gained if you deposited currency for the given time period.\n",
    "\n",
    "You can compare these values to what the Aave v3 dashboard currently shows for your deposits/debt, if you set the start times, amounts and tokens correctly."
   ]
  },
  {
   "cell_type": "code",
   "execution_count": null,
   "metadata": {},
   "outputs": [],
   "source": [
    "from eth_defi.aave_v3.rates import aave_v3_calculate_accrued_deposit_interest, aave_v3_calculate_accrued_variable_borrow_interest, aave_v3_calculate_accrued_stable_borrow_interest\n",
    "from datetime import datetime\n",
    "from decimal import Decimal\n",
    "from importlib import reload\n",
    "\n",
    "start_time = datetime.fromisoformat('2022-08-06T03:17:23')  # replace with start time of your deposit\n",
    "start_time_var = datetime.fromisoformat('2022-08-18T02:19:30')  # replace with start time of your variable borrow debt\n",
    "start_time_stable = datetime.fromisoformat('2022-08-18T02:19:30')  # replace with start time of your stable borrow debt\n",
    "\n",
    "end_time = datetime.now()\n",
    "\n",
    "amount = Decimal(50)  # replace with your amount of deposit\n",
    "amount_var = Decimal(10)  # replace with your amount of variable borrow debt\n",
    "amount_stable = Decimal(2)  # replace with your amount of stable borrow debt\n",
    "\n",
    "deposit_result = aave_v3_calculate_accrued_deposit_interest(reserve_data_updated_df, start_time, end_time, amount, token)\n",
    "variable_borrow_result = aave_v3_calculate_accrued_variable_borrow_interest(reserve_data_updated_df, start_time_var, end_time, amount_var, token)\n",
    "stable_borrow_result = aave_v3_calculate_accrued_stable_borrow_interest(reserve_data_updated_df, start_time_stable, end_time, amount_stable, stable_token)\n",
    "\n",
    "actual_elapsed = deposit_result.actual_end_time - deposit_result.actual_start_time\n",
    "actual_elapsed_var = variable_borrow_result.actual_end_time - variable_borrow_result.actual_start_time\n",
    "actual_elapsed_stable = stable_borrow_result.actual_end_time - stable_borrow_result.actual_start_time\n",
    "\n",
    "print(f'{deposit_result.actual_start_time.isoformat()[0:19]} - {deposit_result.actual_end_time.isoformat()[0:19]} ({actual_elapsed.days}d) {amount} {token.upper()} deposit interest: {deposit_result.interest} {token.upper()}')\n",
    "print(f'{variable_borrow_result.actual_start_time.isoformat()[0:19]} - {variable_borrow_result.actual_end_time.isoformat()[0:19]} ({actual_elapsed_var.days}d) {amount_var} {token.upper()} variable borrow interest: {variable_borrow_result.interest} {token.upper()}')\n",
    "print(f'{stable_borrow_result.actual_start_time.isoformat()[0:19]} - {stable_borrow_result.actual_end_time.isoformat()[0:19]} ({actual_elapsed_stable.days}d) {amount_stable} {stable_token.upper()} stable borrow interest: {stable_borrow_result.interest} {stable_token.upper()}')"
   ]
  },
  {
   "cell_type": "markdown",
   "metadata": {},
   "source": [
    "### Check current deposit account balance\n",
    "\n",
    "If you have an active deposit or debt in Aave v3, you can check your current balance (with accrued interest) in the blockchain using the below functions.\n",
    "\n",
    "You'll need to input your account address and check that the token matches the currency you are using."
   ]
  },
  {
   "cell_type": "code",
   "execution_count": null,
   "metadata": {},
   "outputs": [],
   "source": [
    "from eth_defi.aave_v3.balances import aave_v3_get_deposit_balance, aave_v3_get_variable_borrow_balance, aave_v3_get_stable_borrow_balance\n",
    "from eth_defi.aave_v3.constants import aave_v3_get_account_address\n",
    "\n",
    "# Lookup the token addresses needed for querying balances\n",
    "deposit_address = aave_network.token_contracts[token.upper()].deposit_address\n",
    "variable_borrow_address = aave_network.token_contracts[token.upper()].variable_borrow_address\n",
    "stable_deposit_address = aave_network.token_contracts[stable_token.upper()].deposit_address\n",
    "stable_borrow_address = aave_network.token_contracts[stable_token.upper()].stable_borrow_address\n",
    "\n",
    "# The account address whose balances we want to query\n",
    "account_address = aave_v3_get_account_address() or input(\"Please enter your account address\")\n",
    "\n",
    "# Get the balances\n",
    "deposit_balance = aave_v3_get_deposit_balance(web3, deposit_address, account_address)\n",
    "variable_borrow_balance = aave_v3_get_variable_borrow_balance(web3, variable_borrow_address, account_address)\n",
    "stable_borrow_balance = aave_v3_get_stable_borrow_balance(web3, stable_borrow_address, account_address)\n",
    "\n",
    "print(f'{token.upper()} deposit balance: {deposit_balance}')\n",
    "print(f'{token.upper()} variable borrow balance: {variable_borrow_balance}')\n",
    "print(f'{stable_token.upper()} stable borrow balance: {stable_borrow_balance}')\n"
   ]
  }
 ],
 "metadata": {
  "kernelspec": {
   "display_name": "Python 3.10.4 ('web3-ethereum-defi-itBvgivT-py3.10')",
   "language": "python",
   "name": "python3"
  },
  "language_info": {
   "codemirror_mode": {
    "name": "ipython",
    "version": 3
   },
   "file_extension": ".py",
   "mimetype": "text/x-python",
   "name": "python",
   "nbconvert_exporter": "python",
   "pygments_lexer": "ipython3",
   "version": "3.10.4"
  },
  "orig_nbformat": 4,
  "vscode": {
   "interpreter": {
    "hash": "ea9c42324fc6a22b5050eca0554955a9b1789593e7df3eccd2e9a5ed18cb90d2"
   }
  }
 },
 "nbformat": 4,
 "nbformat_minor": 2
}
